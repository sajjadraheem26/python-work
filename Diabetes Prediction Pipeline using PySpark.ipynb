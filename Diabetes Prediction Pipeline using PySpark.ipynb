{
 "cells": [
  {
   "cell_type": "markdown",
   "id": "afd6160d-c90c-449d-9f57-062a1c0da784",
   "metadata": {},
   "source": [
    "Project Title: Diabetes Prediction Pipeline using PySpark"
   ]
  },
  {
   "cell_type": "markdown",
   "id": "e1675b8b-f9d9-4241-8f88-886963a82478",
   "metadata": {},
   "source": [
    "Objective:\n",
    "This project demonstrates the process of cleaning, preparing, and modeling a diabetes dataset using PySpark. The dataset is preprocessed by imputing missing values, feature engineering, and training a Logistic Regression model to predict diabetes outcomes based on various health metrics."
   ]
  },
  {
   "cell_type": "code",
   "execution_count": 1,
   "id": "23294e49-cdf0-4913-83c1-4c7cf700330a",
   "metadata": {
    "scrolled": true
   },
   "outputs": [
    {
     "name": "stderr",
     "output_type": "stream",
     "text": [
      "Setting default log level to \"WARN\".\n",
      "To adjust logging level use sc.setLogLevel(newLevel). For SparkR, use setLogLevel(newLevel).\n",
      "25/04/20 16:13:41 WARN NativeCodeLoader: Unable to load native-hadoop library for your platform... using builtin-java classes where applicable\n",
      "25/04/20 16:13:41 WARN Utils: Service 'SparkUI' could not bind on port 4040. Attempting port 4041.\n"
     ]
    }
   ],
   "source": [
    "from pyspark.sql import SparkSession\n",
    "\n",
    "spark = SparkSession.builder \\\n",
    "    .appName(\"DiabetesPipeline\") \\\n",
    "    .getOrCreate()\n"
   ]
  },
  {
   "cell_type": "markdown",
   "id": "9879ed06-6fc1-47b5-b98a-5748ee5aa944",
   "metadata": {},
   "source": [
    "Step 1: Data Exploration"
   ]
  },
  {
   "cell_type": "code",
   "execution_count": 6,
   "id": "8892a0c8-af8f-4821-9420-c10c49470a37",
   "metadata": {},
   "outputs": [
    {
     "name": "stdout",
     "output_type": "stream",
     "text": [
      "root\n",
      " |-- Pregnancies: integer (nullable = true)\n",
      " |-- Glucose: integer (nullable = true)\n",
      " |-- BloodPressure: integer (nullable = true)\n",
      " |-- SkinThickness: integer (nullable = true)\n",
      " |-- Insulin: integer (nullable = true)\n",
      " |-- BMI: double (nullable = true)\n",
      " |-- DiabetesPedigreeFunction: double (nullable = true)\n",
      " |-- Age: integer (nullable = true)\n",
      " |-- Outcome: integer (nullable = true)\n",
      "\n",
      "+-----------+-------+-------------+-------------+-------+----+------------------------+---+-------+\n",
      "|Pregnancies|Glucose|BloodPressure|SkinThickness|Insulin| BMI|DiabetesPedigreeFunction|Age|Outcome|\n",
      "+-----------+-------+-------------+-------------+-------+----+------------------------+---+-------+\n",
      "|          6|    148|           72|           35|      0|33.6|                   0.627| 50|      1|\n",
      "|          1|     85|           66|           29|      0|26.6|                   0.351| 31|      0|\n",
      "|          8|    183|           64|            0|      0|23.3|                   0.672| 32|      1|\n",
      "|          1|     89|           66|           23|     94|28.1|                   0.167| 21|      0|\n",
      "|          0|    137|           40|           35|    168|43.1|                   2.288| 33|      1|\n",
      "|          5|    116|           74|            0|      0|25.6|                   0.201| 30|      0|\n",
      "|          3|     78|           50|           32|     88|31.0|                   0.248| 26|      1|\n",
      "|         10|    115|            0|            0|      0|35.3|                   0.134| 29|      0|\n",
      "|          2|    197|           70|           45|    543|30.5|                   0.158| 53|      1|\n",
      "|          8|    125|           96|            0|      0| 0.0|                   0.232| 54|      1|\n",
      "|          4|    110|           92|            0|      0|37.6|                   0.191| 30|      0|\n",
      "|         10|    168|           74|            0|      0|38.0|                   0.537| 34|      1|\n",
      "|         10|    139|           80|            0|      0|27.1|                   1.441| 57|      0|\n",
      "|          1|    189|           60|           23|    846|30.1|                   0.398| 59|      1|\n",
      "|          5|    166|           72|           19|    175|25.8|                   0.587| 51|      1|\n",
      "|          7|    100|            0|            0|      0|30.0|                   0.484| 32|      1|\n",
      "|          0|    118|           84|           47|    230|45.8|                   0.551| 31|      1|\n",
      "|          7|    107|           74|            0|      0|29.6|                   0.254| 31|      1|\n",
      "|          1|    103|           30|           38|     83|43.3|                   0.183| 33|      0|\n",
      "|          1|    115|           70|           30|     96|34.6|                   0.529| 32|      1|\n",
      "+-----------+-------+-------------+-------------+-------+----+------------------------+---+-------+\n",
      "only showing top 20 rows\n",
      "\n"
     ]
    }
   ],
   "source": [
    "df = spark.read.csv(\"diabetes.csv\", header=True, inferSchema=True)\n",
    "df.printSchema()\n",
    "df.show()\n"
   ]
  },
  {
   "cell_type": "markdown",
   "id": "bb43f637-3741-4624-abe4-bd755cceb1df",
   "metadata": {},
   "source": [
    "Step 2: Handling Missing Values (Imputation)"
   ]
  },
  {
   "cell_type": "code",
   "execution_count": 8,
   "id": "348970d7-f86e-4e12-974e-89615a3c7153",
   "metadata": {},
   "outputs": [
    {
     "name": "stdout",
     "output_type": "stream",
     "text": [
      "+-----------+-------+-------------+-------------+-------+----+------------------------+---+-------+\n",
      "|Pregnancies|Glucose|BloodPressure|SkinThickness|Insulin| BMI|DiabetesPedigreeFunction|Age|Outcome|\n",
      "+-----------+-------+-------------+-------------+-------+----+------------------------+---+-------+\n",
      "|          6|    148|           72|           35|   NULL|33.6|                   0.627| 50|      1|\n",
      "|          1|     85|           66|           29|   NULL|26.6|                   0.351| 31|      0|\n",
      "|          8|    183|           64|         NULL|   NULL|23.3|                   0.672| 32|      1|\n",
      "|          1|     89|           66|           23|     94|28.1|                   0.167| 21|      0|\n",
      "|          0|    137|           40|           35|    168|43.1|                   2.288| 33|      1|\n",
      "|          5|    116|           74|         NULL|   NULL|25.6|                   0.201| 30|      0|\n",
      "|          3|     78|           50|           32|     88|31.0|                   0.248| 26|      1|\n",
      "|         10|    115|         NULL|         NULL|   NULL|35.3|                   0.134| 29|      0|\n",
      "|          2|    197|           70|           45|    543|30.5|                   0.158| 53|      1|\n",
      "|          8|    125|           96|         NULL|   NULL|NULL|                   0.232| 54|      1|\n",
      "|          4|    110|           92|         NULL|   NULL|37.6|                   0.191| 30|      0|\n",
      "|         10|    168|           74|         NULL|   NULL|38.0|                   0.537| 34|      1|\n",
      "|         10|    139|           80|         NULL|   NULL|27.1|                   1.441| 57|      0|\n",
      "|          1|    189|           60|           23|    846|30.1|                   0.398| 59|      1|\n",
      "|          5|    166|           72|           19|    175|25.8|                   0.587| 51|      1|\n",
      "|          7|    100|         NULL|         NULL|   NULL|30.0|                   0.484| 32|      1|\n",
      "|          0|    118|           84|           47|    230|45.8|                   0.551| 31|      1|\n",
      "|          7|    107|           74|         NULL|   NULL|29.6|                   0.254| 31|      1|\n",
      "|          1|    103|           30|           38|     83|43.3|                   0.183| 33|      0|\n",
      "|          1|    115|           70|           30|     96|34.6|                   0.529| 32|      1|\n",
      "+-----------+-------+-------------+-------------+-------+----+------------------------+---+-------+\n",
      "only showing top 20 rows\n",
      "\n",
      "+-----------+-------+-------------+-------------+-------+----+------------------------+---+-------+\n",
      "|Pregnancies|Glucose|BloodPressure|SkinThickness|Insulin| BMI|DiabetesPedigreeFunction|Age|Outcome|\n",
      "+-----------+-------+-------------+-------------+-------+----+------------------------+---+-------+\n",
      "|          6|    148|           72|           35|   NULL|33.6|                   0.627| 50|      1|\n",
      "|          1|     85|           66|           29|   NULL|26.6|                   0.351| 31|      0|\n",
      "|          8|    183|           64|         NULL|   NULL|23.3|                   0.672| 32|      1|\n",
      "|          1|     89|           66|           23|     94|28.1|                   0.167| 21|      0|\n",
      "|          0|    137|           40|           35|    168|43.1|                   2.288| 33|      1|\n",
      "|          5|    116|           74|         NULL|   NULL|25.6|                   0.201| 30|      0|\n",
      "|          3|     78|           50|           32|     88|31.0|                   0.248| 26|      1|\n",
      "|         10|    115|         NULL|         NULL|   NULL|35.3|                   0.134| 29|      0|\n",
      "|          2|    197|           70|           45|    543|30.5|                   0.158| 53|      1|\n",
      "|          8|    125|           96|         NULL|   NULL|NULL|                   0.232| 54|      1|\n",
      "|          4|    110|           92|         NULL|   NULL|37.6|                   0.191| 30|      0|\n",
      "|         10|    168|           74|         NULL|   NULL|38.0|                   0.537| 34|      1|\n",
      "|         10|    139|           80|         NULL|   NULL|27.1|                   1.441| 57|      0|\n",
      "|          1|    189|           60|           23|    846|30.1|                   0.398| 59|      1|\n",
      "|          5|    166|           72|           19|    175|25.8|                   0.587| 51|      1|\n",
      "|          7|    100|         NULL|         NULL|   NULL|30.0|                   0.484| 32|      1|\n",
      "|          0|    118|           84|           47|    230|45.8|                   0.551| 31|      1|\n",
      "|          7|    107|           74|         NULL|   NULL|29.6|                   0.254| 31|      1|\n",
      "|          1|    103|           30|           38|     83|43.3|                   0.183| 33|      0|\n",
      "|          1|    115|           70|           30|     96|34.6|                   0.529| 32|      1|\n",
      "+-----------+-------+-------------+-------------+-------+----+------------------------+---+-------+\n",
      "only showing top 20 rows\n",
      "\n",
      "+-----------+-------+-------------+-------------+-------+----+------------------------+---+-------+\n",
      "|Pregnancies|Glucose|BloodPressure|SkinThickness|Insulin| BMI|DiabetesPedigreeFunction|Age|Outcome|\n",
      "+-----------+-------+-------------+-------------+-------+----+------------------------+---+-------+\n",
      "|          6|    148|           72|           35|   NULL|33.6|                   0.627| 50|      1|\n",
      "|          1|     85|           66|           29|   NULL|26.6|                   0.351| 31|      0|\n",
      "|          8|    183|           64|         NULL|   NULL|23.3|                   0.672| 32|      1|\n",
      "|          1|     89|           66|           23|     94|28.1|                   0.167| 21|      0|\n",
      "|          0|    137|           40|           35|    168|43.1|                   2.288| 33|      1|\n",
      "|          5|    116|           74|         NULL|   NULL|25.6|                   0.201| 30|      0|\n",
      "|          3|     78|           50|           32|     88|31.0|                   0.248| 26|      1|\n",
      "|         10|    115|         NULL|         NULL|   NULL|35.3|                   0.134| 29|      0|\n",
      "|          2|    197|           70|           45|    543|30.5|                   0.158| 53|      1|\n",
      "|          8|    125|           96|         NULL|   NULL|NULL|                   0.232| 54|      1|\n",
      "|          4|    110|           92|         NULL|   NULL|37.6|                   0.191| 30|      0|\n",
      "|         10|    168|           74|         NULL|   NULL|38.0|                   0.537| 34|      1|\n",
      "|         10|    139|           80|         NULL|   NULL|27.1|                   1.441| 57|      0|\n",
      "|          1|    189|           60|           23|    846|30.1|                   0.398| 59|      1|\n",
      "|          5|    166|           72|           19|    175|25.8|                   0.587| 51|      1|\n",
      "|          7|    100|         NULL|         NULL|   NULL|30.0|                   0.484| 32|      1|\n",
      "|          0|    118|           84|           47|    230|45.8|                   0.551| 31|      1|\n",
      "|          7|    107|           74|         NULL|   NULL|29.6|                   0.254| 31|      1|\n",
      "|          1|    103|           30|           38|     83|43.3|                   0.183| 33|      0|\n",
      "|          1|    115|           70|           30|     96|34.6|                   0.529| 32|      1|\n",
      "+-----------+-------+-------------+-------------+-------+----+------------------------+---+-------+\n",
      "only showing top 20 rows\n",
      "\n",
      "+-----------+-------+-------------+-------------+-------+----+------------------------+---+-------+\n",
      "|Pregnancies|Glucose|BloodPressure|SkinThickness|Insulin| BMI|DiabetesPedigreeFunction|Age|Outcome|\n",
      "+-----------+-------+-------------+-------------+-------+----+------------------------+---+-------+\n",
      "|          6|    148|           72|           35|   NULL|33.6|                   0.627| 50|      1|\n",
      "|          1|     85|           66|           29|   NULL|26.6|                   0.351| 31|      0|\n",
      "|          8|    183|           64|         NULL|   NULL|23.3|                   0.672| 32|      1|\n",
      "|          1|     89|           66|           23|     94|28.1|                   0.167| 21|      0|\n",
      "|          0|    137|           40|           35|    168|43.1|                   2.288| 33|      1|\n",
      "|          5|    116|           74|         NULL|   NULL|25.6|                   0.201| 30|      0|\n",
      "|          3|     78|           50|           32|     88|31.0|                   0.248| 26|      1|\n",
      "|         10|    115|         NULL|         NULL|   NULL|35.3|                   0.134| 29|      0|\n",
      "|          2|    197|           70|           45|    543|30.5|                   0.158| 53|      1|\n",
      "|          8|    125|           96|         NULL|   NULL|NULL|                   0.232| 54|      1|\n",
      "|          4|    110|           92|         NULL|   NULL|37.6|                   0.191| 30|      0|\n",
      "|         10|    168|           74|         NULL|   NULL|38.0|                   0.537| 34|      1|\n",
      "|         10|    139|           80|         NULL|   NULL|27.1|                   1.441| 57|      0|\n",
      "|          1|    189|           60|           23|    846|30.1|                   0.398| 59|      1|\n",
      "|          5|    166|           72|           19|    175|25.8|                   0.587| 51|      1|\n",
      "|          7|    100|         NULL|         NULL|   NULL|30.0|                   0.484| 32|      1|\n",
      "|          0|    118|           84|           47|    230|45.8|                   0.551| 31|      1|\n",
      "|          7|    107|           74|         NULL|   NULL|29.6|                   0.254| 31|      1|\n",
      "|          1|    103|           30|           38|     83|43.3|                   0.183| 33|      0|\n",
      "|          1|    115|           70|           30|     96|34.6|                   0.529| 32|      1|\n",
      "+-----------+-------+-------------+-------------+-------+----+------------------------+---+-------+\n",
      "only showing top 20 rows\n",
      "\n",
      "+-----------+-------+-------------+-------------+-------+----+------------------------+---+-------+\n",
      "|Pregnancies|Glucose|BloodPressure|SkinThickness|Insulin| BMI|DiabetesPedigreeFunction|Age|Outcome|\n",
      "+-----------+-------+-------------+-------------+-------+----+------------------------+---+-------+\n",
      "|          6|    148|           72|           35|   NULL|33.6|                   0.627| 50|      1|\n",
      "|          1|     85|           66|           29|   NULL|26.6|                   0.351| 31|      0|\n",
      "|          8|    183|           64|         NULL|   NULL|23.3|                   0.672| 32|      1|\n",
      "|          1|     89|           66|           23|     94|28.1|                   0.167| 21|      0|\n",
      "|          0|    137|           40|           35|    168|43.1|                   2.288| 33|      1|\n",
      "|          5|    116|           74|         NULL|   NULL|25.6|                   0.201| 30|      0|\n",
      "|          3|     78|           50|           32|     88|31.0|                   0.248| 26|      1|\n",
      "|         10|    115|         NULL|         NULL|   NULL|35.3|                   0.134| 29|      0|\n",
      "|          2|    197|           70|           45|    543|30.5|                   0.158| 53|      1|\n",
      "|          8|    125|           96|         NULL|   NULL|NULL|                   0.232| 54|      1|\n",
      "|          4|    110|           92|         NULL|   NULL|37.6|                   0.191| 30|      0|\n",
      "|         10|    168|           74|         NULL|   NULL|38.0|                   0.537| 34|      1|\n",
      "|         10|    139|           80|         NULL|   NULL|27.1|                   1.441| 57|      0|\n",
      "|          1|    189|           60|           23|    846|30.1|                   0.398| 59|      1|\n",
      "|          5|    166|           72|           19|    175|25.8|                   0.587| 51|      1|\n",
      "|          7|    100|         NULL|         NULL|   NULL|30.0|                   0.484| 32|      1|\n",
      "|          0|    118|           84|           47|    230|45.8|                   0.551| 31|      1|\n",
      "|          7|    107|           74|         NULL|   NULL|29.6|                   0.254| 31|      1|\n",
      "|          1|    103|           30|           38|     83|43.3|                   0.183| 33|      0|\n",
      "|          1|    115|           70|           30|     96|34.6|                   0.529| 32|      1|\n",
      "+-----------+-------+-------------+-------------+-------+----+------------------------+---+-------+\n",
      "only showing top 20 rows\n",
      "\n"
     ]
    }
   ],
   "source": [
    "from pyspark.sql.functions import col, isnan, when\n",
    "\n",
    "columns_with_zeros = ['Glucose', 'BloodPressure', 'SkinThickness', 'Insulin', 'BMI']\n",
    "for col_name in columns_with_zeros:\n",
    "    df = df.withColumn(col_name, when(col(col_name) == 0, None).otherwise(col(col_name)))\n",
    "    df.show()\n"
   ]
  },
  {
   "cell_type": "code",
   "execution_count": 24,
   "id": "05e5534e-c1fc-4e34-9dd3-be92100ad9b0",
   "metadata": {},
   "outputs": [
    {
     "name": "stdout",
     "output_type": "stream",
     "text": [
      "+-----------+-------+-------------+-------------+-------+----+------------------------+---+-------+---------------+---------------------+---------------------+---------------+-----------+--------------------+--------------------+\n",
      "|Pregnancies|Glucose|BloodPressure|SkinThickness|Insulin| BMI|DiabetesPedigreeFunction|Age|Outcome|Glucose_imputed|BloodPressure_imputed|SkinThickness_imputed|Insulin_imputed|BMI_imputed|            features|     scaled_features|\n",
      "+-----------+-------+-------------+-------------+-------+----+------------------------+---+-------+---------------+---------------------+---------------------+---------------+-----------+--------------------+--------------------+\n",
      "|          6|    148|           72|           35|   NULL|33.6|                   0.627| 50|      1|            148|                   72|                   35|            155|       33.6|[6.0,148.0,72.0,3...|[1.78063837321943...|\n",
      "|          1|     85|           66|           29|   NULL|26.6|                   0.351| 31|      0|             85|                   66|                   29|            155|       26.6|[1.0,85.0,66.0,29...|[0.29677306220323...|\n",
      "|          8|    183|           64|         NULL|   NULL|23.3|                   0.672| 32|      1|            183|                   64|                   29|            155|       23.3|[8.0,183.0,64.0,2...|[2.37418449762590...|\n",
      "|          1|     89|           66|           23|     94|28.1|                   0.167| 21|      0|             89|                   66|                   23|             94|       28.1|[1.0,89.0,66.0,23...|[0.29677306220323...|\n",
      "|          0|    137|           40|           35|    168|43.1|                   2.288| 33|      1|            137|                   40|                   35|            168|       43.1|[0.0,137.0,40.0,3...|[0.0,4.5012486623...|\n",
      "+-----------+-------+-------------+-------------+-------+----+------------------------+---+-------+---------------+---------------------+---------------------+---------------+-----------+--------------------+--------------------+\n",
      "only showing top 5 rows\n",
      "\n"
     ]
    }
   ],
   "source": [
    "from pyspark.ml.feature import Imputer\n",
    "\n",
    "imputer = Imputer(inputCols=columns_with_zeros, outputCols=[c + \"_imputed\" for c in columns_with_zeros])\n",
    "df = imputer.fit(df).transform(df)\n",
    "df.show(5)"
   ]
  },
  {
   "cell_type": "code",
   "execution_count": 12,
   "id": "58f1ac33-12c5-4d38-97c6-f2c525720497",
   "metadata": {},
   "outputs": [],
   "source": [
    "#here one can drop original cols and lets imputed(filled) columns in:\n"
   ]
  },
  {
   "cell_type": "markdown",
   "id": "b5430eb6-fec6-426b-a254-68eb84303b06",
   "metadata": {},
   "source": [
    "Step 3: Feature Engineering"
   ]
  },
  {
   "cell_type": "code",
   "execution_count": 15,
   "id": "9bf4d9cf-c51d-4f49-bf50-b75cc0da3ae0",
   "metadata": {
    "scrolled": true
   },
   "outputs": [
    {
     "name": "stdout",
     "output_type": "stream",
     "text": [
      "+-----------+-------+-------------+-------------+-------+----+------------------------+---+-------+---------------+---------------------+---------------------+---------------+-----------+--------------------+\n",
      "|Pregnancies|Glucose|BloodPressure|SkinThickness|Insulin| BMI|DiabetesPedigreeFunction|Age|Outcome|Glucose_imputed|BloodPressure_imputed|SkinThickness_imputed|Insulin_imputed|BMI_imputed|            features|\n",
      "+-----------+-------+-------------+-------------+-------+----+------------------------+---+-------+---------------+---------------------+---------------------+---------------+-----------+--------------------+\n",
      "|          6|    148|           72|           35|   NULL|33.6|                   0.627| 50|      1|            148|                   72|                   35|            155|       33.6|[6.0,148.0,72.0,3...|\n",
      "|          1|     85|           66|           29|   NULL|26.6|                   0.351| 31|      0|             85|                   66|                   29|            155|       26.6|[1.0,85.0,66.0,29...|\n",
      "|          8|    183|           64|         NULL|   NULL|23.3|                   0.672| 32|      1|            183|                   64|                   29|            155|       23.3|[8.0,183.0,64.0,2...|\n",
      "|          1|     89|           66|           23|     94|28.1|                   0.167| 21|      0|             89|                   66|                   23|             94|       28.1|[1.0,89.0,66.0,23...|\n",
      "|          0|    137|           40|           35|    168|43.1|                   2.288| 33|      1|            137|                   40|                   35|            168|       43.1|[0.0,137.0,40.0,3...|\n",
      "+-----------+-------+-------------+-------------+-------+----+------------------------+---+-------+---------------+---------------------+---------------------+---------------+-----------+--------------------+\n",
      "only showing top 5 rows\n",
      "\n"
     ]
    }
   ],
   "source": [
    "#pyspark take 1 feature..so combinig into one feature:\n",
    "\n",
    "from pyspark.ml.feature import VectorAssembler\n",
    "\n",
    "# List all the columns to be used as features (imputed ones and any new features)\n",
    "feature_cols = [\n",
    "    'Pregnancies', 'Glucose_imputed', 'BloodPressure_imputed', 'SkinThickness_imputed', \n",
    "    'Insulin_imputed', 'BMI_imputed', 'DiabetesPedigreeFunction', 'Age'\n",
    "]\n",
    "\n",
    "# Assembler: combines features into a single column\n",
    "assembler = VectorAssembler(inputCols=feature_cols, outputCol=\"features\")\n",
    "df = assembler.transform(df)\n",
    "\n",
    "df.show(5)  # To check the new \"features\" column\n",
    "\n"
   ]
  },
  {
   "cell_type": "code",
   "execution_count": 18,
   "id": "1d8dd330-15bc-49fc-bfa3-8bc99a198d1e",
   "metadata": {
    "scrolled": true
   },
   "outputs": [
    {
     "name": "stdout",
     "output_type": "stream",
     "text": [
      "+-----------+-------+-------------+-------------+-------+----+------------------------+---+-------+---------------+---------------------+---------------------+---------------+-----------+--------------------+--------------------+\n",
      "|Pregnancies|Glucose|BloodPressure|SkinThickness|Insulin| BMI|DiabetesPedigreeFunction|Age|Outcome|Glucose_imputed|BloodPressure_imputed|SkinThickness_imputed|Insulin_imputed|BMI_imputed|            features|     scaled_features|\n",
      "+-----------+-------+-------------+-------------+-------+----+------------------------+---+-------+---------------+---------------------+---------------------+---------------+-----------+--------------------+--------------------+\n",
      "|          6|    148|           72|           35|   NULL|33.6|                   0.627| 50|      1|            148|                   72|                   35|            155|       33.6|[6.0,148.0,72.0,3...|[1.78063837321943...|\n",
      "|          1|     85|           66|           29|   NULL|26.6|                   0.351| 31|      0|             85|                   66|                   29|            155|       26.6|[1.0,85.0,66.0,29...|[0.29677306220323...|\n",
      "|          8|    183|           64|         NULL|   NULL|23.3|                   0.672| 32|      1|            183|                   64|                   29|            155|       23.3|[8.0,183.0,64.0,2...|[2.37418449762590...|\n",
      "|          1|     89|           66|           23|     94|28.1|                   0.167| 21|      0|             89|                   66|                   23|             94|       28.1|[1.0,89.0,66.0,23...|[0.29677306220323...|\n",
      "|          0|    137|           40|           35|    168|43.1|                   2.288| 33|      1|            137|                   40|                   35|            168|       43.1|[0.0,137.0,40.0,3...|[0.0,4.5012486623...|\n",
      "+-----------+-------+-------------+-------------+-------+----+------------------------+---+-------+---------------+---------------------+---------------------+---------------+-----------+--------------------+--------------------+\n",
      "only showing top 5 rows\n",
      "\n"
     ]
    }
   ],
   "source": [
    "from pyspark.ml.feature import StandardScaler\n",
    "\n",
    "scaler = StandardScaler(inputCol=\"features\", outputCol=\"scaled_features\")\n",
    "df = scaler.fit(df).transform(df)\n",
    "\n",
    "df.show(5)  # Now the DataFrame will have a \"scaled_features\" column\n"
   ]
  },
  {
   "cell_type": "markdown",
   "id": "76009ee1-6e5a-4299-9481-7679cdcbb1ff",
   "metadata": {},
   "source": [
    "Step 4: Model Training"
   ]
  },
  {
   "cell_type": "code",
   "execution_count": 19,
   "id": "9541ef9e-08bb-442e-917f-2714925e4dcc",
   "metadata": {},
   "outputs": [],
   "source": [
    "train_data, test_data = df.randomSplit([0.8, 0.2], seed=42)\n"
   ]
  },
  {
   "cell_type": "code",
   "execution_count": 21,
   "id": "9f22ff0f-43e1-4ca8-bdf2-c7574064c6fb",
   "metadata": {
    "scrolled": true
   },
   "outputs": [
    {
     "name": "stdout",
     "output_type": "stream",
     "text": [
      "+-------+----------+--------------------+\n",
      "|Outcome|prediction|         probability|\n",
      "+-------+----------+--------------------+\n",
      "|      0|       0.0|[0.98801884361001...|\n",
      "|      0|       0.0|[0.92681538906873...|\n",
      "|      0|       0.0|[0.87619988556419...|\n",
      "|      0|       0.0|[0.93400414148460...|\n",
      "|      0|       0.0|[0.95866237880879...|\n",
      "|      0|       0.0|[0.96402248619869...|\n",
      "|      0|       0.0|[0.89199040663298...|\n",
      "|      0|       0.0|[0.81823775295386...|\n",
      "|      0|       0.0|[0.90555106687083...|\n",
      "|      1|       0.0|[0.87349445835079...|\n",
      "+-------+----------+--------------------+\n",
      "only showing top 10 rows\n",
      "\n"
     ]
    }
   ],
   "source": [
    "from pyspark.ml.classification import LogisticRegression\n",
    "\n",
    "# Initialize the Logistic Regression model\n",
    "lr = LogisticRegression(featuresCol=\"scaled_features\", labelCol=\"Outcome\")\n",
    "\n",
    "# Train the model\n",
    "lr_model = lr.fit(train_data)\n",
    "\n",
    "# Make predictions\n",
    "predictions = lr_model.transform(test_data)\n",
    "\n",
    "# Show results\n",
    "predictions.select(\"Outcome\", \"prediction\", \"probability\").show(10)\n"
   ]
  },
  {
   "cell_type": "markdown",
   "id": "47fa6cb2-ef06-4584-bd55-c67a1959d67f",
   "metadata": {},
   "source": [
    "Step 5: Model Evaluation"
   ]
  },
  {
   "cell_type": "code",
   "execution_count": 22,
   "id": "4adcf4b6-c7cd-4a1e-b4a1-544465cf78b1",
   "metadata": {},
   "outputs": [
    {
     "name": "stdout",
     "output_type": "stream",
     "text": [
      "ROC AUC: 0.8630813953488372\n"
     ]
    }
   ],
   "source": [
    "from pyspark.ml.evaluation import BinaryClassificationEvaluator\n",
    "\n",
    "evaluator = BinaryClassificationEvaluator(labelCol=\"Outcome\", metricName=\"areaUnderROC\")\n",
    "roc_auc = evaluator.evaluate(predictions)\n",
    "print(f\"ROC AUC: {roc_auc}\")\n"
   ]
  },
  {
   "cell_type": "markdown",
   "id": "d38a75a4-5ee9-4100-82e8-b4df78d38ab0",
   "metadata": {},
   "source": [
    "Step 6: Model Saving & Data Export"
   ]
  },
  {
   "cell_type": "code",
   "execution_count": 23,
   "id": "171b259e-0593-440b-ae31-c7d223aea6f0",
   "metadata": {},
   "outputs": [
    {
     "name": "stderr",
     "output_type": "stream",
     "text": [
      "                                                                                \r"
     ]
    }
   ],
   "source": [
    "# Save the cleaned data\n",
    "df.write.mode(\"overwrite\").parquet(\"diabetes_cleaned_data/\")\n",
    "\n",
    "# Save the model\n",
    "lr_model.save(\"diabetes_lr_model/\")\n"
   ]
  },
  {
   "cell_type": "markdown",
   "id": "1e3ce4b0-a9f1-4548-91ef-900239cd21ce",
   "metadata": {},
   "source": [
    "Conclusion\n",
    "This project demonstrates the full pipeline for preprocessing, modeling, and evaluating a diabetes dataset using PySpark. The key steps include data exploration, imputation, feature engineering, model training, and evaluation. The final model and data are saved for further analysis or deployment, providing a solid foundation for further improvements and real-world use."
   ]
  }
 ],
 "metadata": {
  "kernelspec": {
   "display_name": "Python 3 (ipykernel)",
   "language": "python",
   "name": "python3"
  },
  "language_info": {
   "codemirror_mode": {
    "name": "ipython",
    "version": 3
   },
   "file_extension": ".py",
   "mimetype": "text/x-python",
   "name": "python",
   "nbconvert_exporter": "python",
   "pygments_lexer": "ipython3",
   "version": "3.12.7"
  }
 },
 "nbformat": 4,
 "nbformat_minor": 5
}
